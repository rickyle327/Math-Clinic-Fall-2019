{
 "cells": [
  {
   "cell_type": "markdown",
   "metadata": {},
   "source": [
    "info on Cartopy https://scitools.org.uk/cartopy/docs/latest/\n",
    "build requirements to use Cartopy https://github.com/SciTools/cartopy/blob/master/INSTALL ** conda install -c conda-forge cartopy ** That should work\n",
    "\n",
    "### NOTE:\n",
    "\n",
    "I worked with Michael to update the system so all these required installs should be added already. I am including this information though, for reference in case we need to use these notebooks on our own computers and not the hub.\n",
    "\n",
    "___"
   ]
  },
  {
   "cell_type": "code",
   "execution_count": null,
   "metadata": {
    "ExecuteTime": {
     "end_time": "2019-10-17T15:40:44.975831Z",
     "start_time": "2019-10-17T15:40:44.971517Z"
    }
   },
   "outputs": [],
   "source": [
    "#conda install -c conda-forge cartopy "
   ]
  },
  {
   "cell_type": "markdown",
   "metadata": {},
   "source": [
    "# Groundtracking\n",
    "## Modeling a Satellite in Orbit\n",
    "\n",
    "___"
   ]
  },
  {
   "cell_type": "markdown",
   "metadata": {},
   "source": [
    "Below we import the necessary packages to run the groundtracking model"
   ]
  },
  {
   "cell_type": "markdown",
   "metadata": {},
   "source": [
    "A useful website\n",
    "https://www.celestrak.com/NORAD/documentation/tle-fmt.php\n",
    "\n",
    "### Below, we input the standard TLE fromat to describe the orbit of the Satellite\n",
    "\n",
    "The website linked has varying satellites collected. I am working on inputing our own without creating a website to input the TLE format."
   ]
  },
  {
   "cell_type": "code",
   "execution_count": 1,
   "metadata": {
    "ExecuteTime": {
     "end_time": "2019-10-17T15:45:40.429935Z",
     "start_time": "2019-10-17T15:45:39.427766Z"
    }
   },
   "outputs": [],
   "source": [
    "import matplotlib.pyplot as plt\n",
    "plt.ion() # Turning interactive matplotlib on\n",
    "\n",
    "# SEE ABOVE for downloading to use\n",
    "import cartopy.crs as ccrs \n",
    "from orbit_predictor.sources import get_predictor_from_tle_lines\n",
    "from orbit_predictor.sources import NoradTLESource\n",
    "from orbit_predictor.locations import Location\n",
    "\n",
    "import datetime as dt\n",
    "import pandas as pd"
   ]
  },
  {
   "cell_type": "code",
   "execution_count": 2,
   "metadata": {
    "ExecuteTime": {
     "end_time": "2019-10-17T15:45:54.591830Z",
     "start_time": "2019-10-17T15:45:54.377604Z"
    }
   },
   "outputs": [
    {
     "data": {
      "text/plain": [
       "<orbit_predictor.predictors.accurate.HighAccuracyTLEPredictor at 0x7f8c697878d0>"
      ]
     },
     "execution_count": 2,
     "metadata": {},
     "output_type": "execute_result"
    }
   ],
   "source": [
    "# TLE INPUT FILE WITH MANY SATELLITES\n",
    "source = NoradTLESource.from_url(\"http://www.celestrak.com/NORAD/elements/resource.txt\")\n",
    "predictor = source.get_predictor(\"NUSAT-2\")\n",
    "predictor"
   ]
  },
  {
   "cell_type": "markdown",
   "metadata": {},
   "source": [
    "And below is how we input our own TLE for groundtracking.\n",
    "\n",
    "___"
   ]
  },
  {
   "cell_type": "code",
   "execution_count": 3,
   "metadata": {
    "ExecuteTime": {
     "end_time": "2019-10-17T15:45:57.468586Z",
     "start_time": "2019-10-17T15:45:57.458315Z"
    }
   },
   "outputs": [
    {
     "data": {
      "text/plain": [
       "Position(when_utc=datetime.datetime(2019, 10, 14, 0, 0), position_ecef=(-1210.125549520668, -2032.2427564825334, -6545.272705228332), velocity_ecef=(-5.959942655730757, -3.992472731370765, 2.366305293077898), error_estimate=None)"
      ]
     },
     "execution_count": 3,
     "metadata": {},
     "output_type": "execute_result"
    }
   ],
   "source": [
    "TLE_LINES = ('1 40014U 14033E   15328.83189478  .00002037  00000-0  19542-3 0  9993', \n",
    "             '2 40014  97.9563 235.2185 0033978  56.8458 303.6015 14.93852659 78029')\n",
    "\n",
    "predictor = get_predictor_from_tle_lines(TLE_LINES)\n",
    "\n",
    "predictor.get_position(dt.datetime(2019, 10, 14))"
   ]
  },
  {
   "cell_type": "markdown",
   "metadata": {},
   "source": [
    "Below is a neat extra function. Useless for our purposes but if you care to know when the next time a satellite will cross any specific point the code block below will do this.\n",
    "\n",
    "CU Denvers lat and lon is \n",
    "39° 44' 31.3548'' N\n",
    "104° 59' 29.5116'' W\n",
    "lat = 39.742043\n",
    "long = -104.991531\n",
    "\n",
    "This is the lat / lon of the Student Commons Building\n",
    "39.745830\n",
    "-105.003193\n",
    "\n",
    "The input is Latitude, Longitude, Altitude."
   ]
  },
  {
   "cell_type": "code",
   "execution_count": 4,
   "metadata": {
    "ExecuteTime": {
     "end_time": "2019-10-17T15:46:00.004535Z",
     "start_time": "2019-10-17T15:45:59.993605Z"
    }
   },
   "outputs": [
    {
     "data": {
      "text/plain": [
       "<PredictedPass 40014 over CU Denver on 2019-10-17 19:40:22.097145>"
      ]
     },
     "execution_count": 4,
     "metadata": {},
     "output_type": "execute_result"
    }
   ],
   "source": [
    "#FBR = Location(\"Observatori Fabra\", 41.4184, 2.1239, 408)\n",
    "FBR = Location(\"CU Denver\", 39.745830, -105.003193, 1590)\n",
    "\n",
    "predicted_pass = predictor.get_next_pass(FBR)\n",
    "predicted_pass"
   ]
  },
  {
   "cell_type": "markdown",
   "metadata": {},
   "source": [
    "___\n",
    "\n",
    "Documentation on the Pandas Date_range\n",
    "https://pandas.pydata.org/pandas-docs/stable/reference/api/pandas.date_range.html\n",
    "\n",
    "\n",
    "From the website above:\n",
    "\n",
    "*Of the four parameters start, end, periods, and freq, exactly three must be specified. If freq is omitted, the resulting DatetimeIndex will have periods linearly spaced elements between start and end (closed on both sides).*\n",
    "\n",
    "I will be trying a few varieties"
   ]
  },
  {
   "cell_type": "code",
   "execution_count": 5,
   "metadata": {
    "ExecuteTime": {
     "end_time": "2019-10-17T15:46:03.492063Z",
     "start_time": "2019-10-17T15:46:03.486944Z"
    }
   },
   "outputs": [],
   "source": [
    "dates = pd.date_range(start=\"2019-10-09 00:00\", end=\"2019-10-10 00:00\", periods = 50)"
   ]
  },
  {
   "cell_type": "code",
   "execution_count": 6,
   "metadata": {
    "ExecuteTime": {
     "end_time": "2019-10-17T15:46:04.441364Z",
     "start_time": "2019-10-17T15:46:04.434811Z"
    }
   },
   "outputs": [
    {
     "data": {
      "text/plain": [
       "DatetimeIndex(['2019-10-14', '2019-10-15'], dtype='datetime64[ns]', freq='D')"
      ]
     },
     "execution_count": 6,
     "metadata": {},
     "output_type": "execute_result"
    }
   ],
   "source": [
    "pd.date_range(start='10/14/2019', end='10/15/2019')"
   ]
  },
  {
   "cell_type": "code",
   "execution_count": 7,
   "metadata": {
    "ExecuteTime": {
     "end_time": "2019-10-17T15:46:05.502515Z",
     "start_time": "2019-10-17T15:46:05.494908Z"
    }
   },
   "outputs": [
    {
     "data": {
      "text/plain": [
       "DatetimeIndex(['2019-10-14', '2019-10-15', '2019-10-16', '2019-10-17',\n",
       "               '2019-10-18', '2019-10-19', '2019-10-20', '2019-10-21'],\n",
       "              dtype='datetime64[ns]', freq='D')"
      ]
     },
     "execution_count": 7,
     "metadata": {},
     "output_type": "execute_result"
    }
   ],
   "source": [
    "pd.date_range(start='10/14/2019', periods=8)"
   ]
  },
  {
   "cell_type": "code",
   "execution_count": 8,
   "metadata": {
    "ExecuteTime": {
     "end_time": "2019-10-17T15:46:06.506607Z",
     "start_time": "2019-10-17T15:46:06.501200Z"
    }
   },
   "outputs": [
    {
     "data": {
      "text/plain": [
       "DatetimeIndex(['2019-10-08', '2019-10-09', '2019-10-10', '2019-10-11',\n",
       "               '2019-10-12', '2019-10-13', '2019-10-14', '2019-10-15'],\n",
       "              dtype='datetime64[ns]', freq='D')"
      ]
     },
     "execution_count": 8,
     "metadata": {},
     "output_type": "execute_result"
    }
   ],
   "source": [
    "pd.date_range(end='10/15/2019', periods=8)"
   ]
  },
  {
   "cell_type": "code",
   "execution_count": 9,
   "metadata": {
    "ExecuteTime": {
     "end_time": "2019-10-17T15:46:08.187788Z",
     "start_time": "2019-10-17T15:46:08.182488Z"
    }
   },
   "outputs": [
    {
     "data": {
      "text/plain": [
       "DatetimeIndex(['2019-10-14 00:00:00', '2019-10-14 12:00:00',\n",
       "               '2019-10-15 00:00:00'],\n",
       "              dtype='datetime64[ns]', freq=None)"
      ]
     },
     "execution_count": 9,
     "metadata": {},
     "output_type": "execute_result"
    }
   ],
   "source": [
    "pd.date_range(start='2019-10-14', end='2019-10-15', periods=3)"
   ]
  },
  {
   "cell_type": "code",
   "execution_count": 10,
   "metadata": {
    "ExecuteTime": {
     "end_time": "2019-10-17T15:46:09.480048Z",
     "start_time": "2019-10-17T15:46:09.469854Z"
    }
   },
   "outputs": [
    {
     "data": {
      "text/plain": [
       "DatetimeIndex(['2019-10-31', '2019-11-30', '2019-12-31', '2020-01-31',\n",
       "               '2020-02-29'],\n",
       "              dtype='datetime64[ns]', freq='M')"
      ]
     },
     "execution_count": 10,
     "metadata": {},
     "output_type": "execute_result"
    }
   ],
   "source": [
    "pd.date_range(start='10/14/2019', periods=5, freq='M')"
   ]
  },
  {
   "cell_type": "code",
   "execution_count": 11,
   "metadata": {
    "ExecuteTime": {
     "end_time": "2019-10-17T15:46:10.630378Z",
     "start_time": "2019-10-17T15:46:10.624393Z"
    }
   },
   "outputs": [
    {
     "data": {
      "text/plain": [
       "DatetimeIndex(['2018-09-30', '2018-12-31', '2019-03-31', '2019-06-30',\n",
       "               '2019-09-30'],\n",
       "              dtype='datetime64[ns]', freq='3M')"
      ]
     },
     "execution_count": 11,
     "metadata": {},
     "output_type": "execute_result"
    }
   ],
   "source": [
    "pd.date_range(end='10/15/2019', periods=5, freq='3M')"
   ]
  },
  {
   "cell_type": "markdown",
   "metadata": {},
   "source": [
    "Still trying to decipher what is best above\n",
    "\n",
    "___"
   ]
  },
  {
   "cell_type": "markdown",
   "metadata": {},
   "source": [
    "Below, hmm what is this. Will have to document later because I am out of time right now"
   ]
  },
  {
   "cell_type": "code",
   "execution_count": 12,
   "metadata": {
    "ExecuteTime": {
     "end_time": "2019-10-17T15:46:15.164238Z",
     "start_time": "2019-10-17T15:46:15.121239Z"
    }
   },
   "outputs": [],
   "source": [
    "latlon = pd.DataFrame( index = dates, columns = [\"lat\", \"lon\"] )\n",
    "\n",
    "for date in dates:\n",
    "    lat, lon, _ = predictor.get_position( date ).position_llh\n",
    "    latlon.loc[ date ] = ( lat, lon )"
   ]
  },
  {
   "cell_type": "code",
   "execution_count": null,
   "metadata": {
    "ExecuteTime": {
     "start_time": "2019-10-17T15:46:25.551Z"
    }
   },
   "outputs": [],
   "source": [
    "plt.figure( figsize = ( 20, 30 ) )\n",
    "ax = plt.axes( projection = ccrs.PlateCarree() )\n",
    "ax.stock_img()\n",
    "\n",
    "plt.plot( latlon[\"lon\"], latlon[\"lat\"], 'k',\n",
    "         transform = ccrs.Geodetic() );"
   ]
  },
  {
   "cell_type": "code",
   "execution_count": null,
   "metadata": {},
   "outputs": [],
   "source": []
  }
 ],
 "metadata": {
  "kernelspec": {
   "display_name": "Python 3",
   "language": "python",
   "name": "python3"
  },
  "language_info": {
   "codemirror_mode": {
    "name": "ipython",
    "version": 3
   },
   "file_extension": ".py",
   "mimetype": "text/x-python",
   "name": "python",
   "nbconvert_exporter": "python",
   "pygments_lexer": "ipython3",
   "version": "3.7.3"
  },
  "latex_envs": {
   "LaTeX_envs_menu_present": true,
   "autoclose": false,
   "autocomplete": true,
   "bibliofile": "biblio.bib",
   "cite_by": "apalike",
   "current_citInitial": 1,
   "eqLabelWithNumbers": true,
   "eqNumInitial": 1,
   "hotkeys": {
    "equation": "Ctrl-E",
    "itemize": "Ctrl-I"
   },
   "labels_anchors": false,
   "latex_user_defs": false,
   "report_style_numbering": false,
   "user_envs_cfg": false
  },
  "toc": {
   "base_numbering": 1,
   "nav_menu": {},
   "number_sections": true,
   "sideBar": true,
   "skip_h1_title": false,
   "title_cell": "Table of Contents",
   "title_sidebar": "Contents",
   "toc_cell": false,
   "toc_position": {},
   "toc_section_display": true,
   "toc_window_display": false
  },
  "varInspector": {
   "cols": {
    "lenName": 16,
    "lenType": 16,
    "lenVar": 40
   },
   "kernels_config": {
    "python": {
     "delete_cmd_postfix": "",
     "delete_cmd_prefix": "del ",
     "library": "var_list.py",
     "varRefreshCmd": "print(var_dic_list())"
    },
    "r": {
     "delete_cmd_postfix": ") ",
     "delete_cmd_prefix": "rm(",
     "library": "var_list.r",
     "varRefreshCmd": "cat(var_dic_list()) "
    }
   },
   "types_to_exclude": [
    "module",
    "function",
    "builtin_function_or_method",
    "instance",
    "_Feature"
   ],
   "window_display": false
  }
 },
 "nbformat": 4,
 "nbformat_minor": 2
}
