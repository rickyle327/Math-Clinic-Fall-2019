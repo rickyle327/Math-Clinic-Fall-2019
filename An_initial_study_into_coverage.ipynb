{
 "cells": [
  {
   "cell_type": "code",
   "execution_count": 1,
   "metadata": {
    "ExecuteTime": {
     "end_time": "2019-11-05T18:00:32.440188Z",
     "start_time": "2019-11-05T18:00:32.423851Z"
    }
   },
   "outputs": [
    {
     "data": {
      "text/html": [
       "<style>.container { width:95% !important; }</style>"
      ],
      "text/plain": [
       "<IPython.core.display.HTML object>"
      ]
     },
     "metadata": {},
     "output_type": "display_data"
    }
   ],
   "source": [
    "from IPython.display import HTML, display\n",
    "display(HTML(\"<style>.container { width:95% !important; }</style>\"))"
   ]
  },
  {
   "cell_type": "markdown",
   "metadata": {},
   "source": [
    "# A Study Into Swath Coverage\n",
    "\n",
    "___"
   ]
  },
  {
   "cell_type": "markdown",
   "metadata": {},
   "source": [
    "For this notebook our goal is to develop an initial study into the camera coverage from the satellites projected onto Earth. In order to understand this we will need to understand orbital period for the satellites. "
   ]
  },
  {
   "cell_type": "markdown",
   "metadata": {},
   "source": [
    "https://keisan.casio.com/exec/system/1224665242\n",
    "\n",
    "Above is an online calculator for an orbital period. For now the main take-away is for our altitude of interest (400-600 km) the orbital period varies only slightly \n",
    "\n",
    "|Altitude|Orbital Period|Flight Velocity|\n",
    "|--------|--------------|---------------|\n",
    "|     400|     1hr 32min|     6,778.14km|\n",
    "|--------|--------------|---------------|\n",
    "|     500|     1hr 34min|     6,878.14km|\n",
    "|--------|--------------|---------------|\n",
    "|     600|     1hr 36min|     6,978.14km|\n",
    "\n",
    "Note for this calculation, to calculate the orbital period we have \n",
    "\n",
    "\\begin{equation*}\n",
    "    P = 2\\pi\\sqrt{\\frac{a^3}{\\mu}}.\n",
    "\\end{equation*}\n",
    "\n",
    "Where $a$ is the semi-major axis and $\\mu = GM$ where $G$ is Earth's gravitational force and $M$ is its mass. The calculation to compute $a$ uses the orbital period, at least within the Wiki article on orbital period. i.e. $a = \\sqrt[3]{\\frac{GMP^2}{4\\pi^2}}$"
   ]
  },
  {
   "cell_type": "markdown",
   "metadata": {},
   "source": [
    "But Wiki provides something a little further that is useful, they say \"When a very small body is in a circular orbit barely above the surface of a sphere of any radius and mean density ρ (in kg/m3), the above equation simplifies to\n",
    "\n",
    "\\begin{equation*}\n",
    "    P = \\sqrt{\\frac{3\\pi}{G\\rho}}\n",
    "\\end{equation*}\n",
    "\n",
    "Thus the orbital period in low orbit depends only on the density of the central body, regardless of its size.\""
   ]
  },
  {
   "cell_type": "markdown",
   "metadata": {},
   "source": [
    "What the website looks into is, first it calculates the orbital velocity and then uses that to calculate the orbital period. Their equation is only based off altitude which from what I input earlier justifies the simplicity of the problem (our satellites are 'close' enough to earth). They have \n",
    "\n",
    "\\begin{equation*}\n",
    "    v = \\sqrt{\\frac{398,600.5}{6,378.14 + h}}\n",
    "\\end{equation*}\n",
    "\n",
    "where $h$ is the altitude and $v$ is measured in km/s."
   ]
  },
  {
   "cell_type": "markdown",
   "metadata": {},
   "source": [
    "Within \\textbf{Satellite Communications} by Timothy Pratt we found the value $6,378.14$ is the Earth's mean radius. The numerator is based on  "
   ]
  },
  {
   "cell_type": "markdown",
   "metadata": {},
   "source": [
    "Finally they can calculate the orbital period by \n",
    "\n",
    "\\begin{equation*}\n",
    "    P = 2\\pi \\frac{6,738.14 + h}{v}.\n",
    "\\end{equation*}"
   ]
  },
  {
   "cell_type": "markdown",
   "metadata": {},
   "source": [
    "___\n",
    "\n",
    "Now we move towards being able to estimate coverage of the Earth. The Earth's equator, we are assuming once we cover the equator we've sufficiently covered the rest of the Earth, is $40,075$ km. Below is code written by Ricky where justification can be found within the \"Modelling Camera Coverage\" jupyter notebook."
   ]
  },
  {
   "cell_type": "code",
   "execution_count": 2,
   "metadata": {
    "ExecuteTime": {
     "end_time": "2019-11-05T18:47:10.089219Z",
     "start_time": "2019-11-05T18:47:10.084786Z"
    }
   },
   "outputs": [],
   "source": [
    "import math\n",
    "import numpy as np"
   ]
  },
  {
   "cell_type": "code",
   "execution_count": 15,
   "metadata": {
    "ExecuteTime": {
     "end_time": "2019-11-05T18:50:32.628532Z",
     "start_time": "2019-11-05T18:50:32.621359Z"
    }
   },
   "outputs": [],
   "source": [
    "def coverage(theta, h):\n",
    "    l = 2 * h * np.tan( np.pi * ( theta / 2 ) / 180 )\n",
    "    print(\"Swath = \", l, \"km\")\n",
    "#    cov = l**2\n",
    "#    return cov"
   ]
  },
  {
   "cell_type": "markdown",
   "metadata": {},
   "source": [
    "With this we can now determine varying swath sizes based on our altitude."
   ]
  },
  {
   "cell_type": "code",
   "execution_count": 16,
   "metadata": {
    "ExecuteTime": {
     "end_time": "2019-11-05T18:50:33.493655Z",
     "start_time": "2019-11-05T18:50:33.487232Z"
    }
   },
   "outputs": [
    {
     "name": "stdout",
     "output_type": "stream",
     "text": [
      "Swath =  214.35935394489815 km\n"
     ]
    }
   ],
   "source": [
    "coverage(30.0, 400)"
   ]
  },
  {
   "cell_type": "code",
   "execution_count": 17,
   "metadata": {
    "ExecuteTime": {
     "end_time": "2019-11-05T18:50:52.484759Z",
     "start_time": "2019-11-05T18:50:52.475615Z"
    }
   },
   "outputs": [
    {
     "name": "stdout",
     "output_type": "stream",
     "text": [
      "Swath =  321.53903091734725 km\n"
     ]
    }
   ],
   "source": [
    "coverage(30.0, 600)"
   ]
  },
  {
   "cell_type": "markdown",
   "metadata": {},
   "source": [
    "Ok. Moving on we will assume that an orbital period of a satellite will be 90 minutes. Just for simplicity at the beginning. Given this, we can calculate how many times the satellite orbits the Earth in a single day. Well we have 24 hours in a day and 1.5 hours to orbit the Earth, so we orbit the Earth exactly 16 times in one day and pass the equator 32 times in a day. The only issue with this is, we only want to count coverage on the sunny side of the Earth. On the dark side we will not be measuring any evapotranspiration so we assume 16 passes a day."
   ]
  },
  {
   "cell_type": "markdown",
   "metadata": {},
   "source": [
    "Thus since we orbit the Earth 16 times in 24 hours, and the Earth orbits once in 24 hours, we can measure how far the Earth has rotated in one satellite orbital period. i.e. for one satellite period the Earth has rotated $\\frac{40,075}{16} = 2504.6875$ km. "
   ]
  },
  {
   "cell_type": "markdown",
   "metadata": {},
   "source": [
    "Let's do a quick study to check in on overlap through days."
   ]
  },
  {
   "cell_type": "code",
   "execution_count": 22,
   "metadata": {
    "ExecuteTime": {
     "end_time": "2019-11-05T19:27:27.630072Z",
     "start_time": "2019-11-05T19:27:27.608146Z"
    }
   },
   "outputs": [
    {
     "data": {
      "text/plain": [
       "[[0, 321],\n",
       " [2504.6875, 2825.6875],\n",
       " [5009.375, 5330.375],\n",
       " [7514.0625, 7835.0625],\n",
       " [10018.75, 10339.75],\n",
       " [12523.4375, 12844.4375],\n",
       " [15028.125, 15349.125],\n",
       " [17532.8125, 17853.8125],\n",
       " [20037.5, 20358.5],\n",
       " [22542.1875, 22863.1875],\n",
       " [25046.875, 25367.875],\n",
       " [27551.5625, 27872.5625],\n",
       " [30056.25, 30377.25],\n",
       " [32560.9375, 32881.9375],\n",
       " [35065.625, 35386.625],\n",
       " [37570.3125, 37891.3125],\n",
       " [0.0, 321.0],\n",
       " [2504.6875, 2825.6875],\n",
       " [5009.375, 5330.375],\n",
       " [7514.0625, 7835.0625],\n",
       " [10018.75, 10339.75],\n",
       " [12523.4375, 12844.4375],\n",
       " [15028.125, 15349.125],\n",
       " [17532.8125, 17853.8125],\n",
       " [20037.5, 20358.5],\n",
       " [22542.1875, 22863.1875],\n",
       " [25046.875, 25367.875],\n",
       " [27551.5625, 27872.5625],\n",
       " [30056.25, 30377.25],\n",
       " [32560.9375, 32881.9375],\n",
       " [35065.625, 35386.625],\n",
       " [37570.3125, 37891.3125],\n",
       " [0.0, 321.0],\n",
       " [2504.6875, 2825.6875],\n",
       " [5009.375, 5330.375],\n",
       " [7514.0625, 7835.0625],\n",
       " [10018.75, 10339.75],\n",
       " [12523.4375, 12844.4375],\n",
       " [15028.125, 15349.125],\n",
       " [17532.8125, 17853.8125],\n",
       " [20037.5, 20358.5],\n",
       " [22542.1875, 22863.1875],\n",
       " [25046.875, 25367.875],\n",
       " [27551.5625, 27872.5625],\n",
       " [30056.25, 30377.25],\n",
       " [32560.9375, 32881.9375],\n",
       " [35065.625, 35386.625],\n",
       " [37570.3125, 37891.3125],\n",
       " [0.0, 321.0],\n",
       " [2504.6875, 2825.6875],\n",
       " [5009.375, 5330.375],\n",
       " [7514.0625, 7835.0625],\n",
       " [10018.75, 10339.75],\n",
       " [12523.4375, 12844.4375],\n",
       " [15028.125, 15349.125],\n",
       " [17532.8125, 17853.8125],\n",
       " [20037.5, 20358.5],\n",
       " [22542.1875, 22863.1875],\n",
       " [25046.875, 25367.875],\n",
       " [27551.5625, 27872.5625],\n",
       " [30056.25, 30377.25],\n",
       " [32560.9375, 32881.9375],\n",
       " [35065.625, 35386.625],\n",
       " [37570.3125, 37891.3125],\n",
       " [0.0, 321.0],\n",
       " [2504.6875, 2825.6875],\n",
       " [5009.375, 5330.375],\n",
       " [7514.0625, 7835.0625],\n",
       " [10018.75, 10339.75],\n",
       " [12523.4375, 12844.4375],\n",
       " [15028.125, 15349.125],\n",
       " [17532.8125, 17853.8125],\n",
       " [20037.5, 20358.5],\n",
       " [22542.1875, 22863.1875],\n",
       " [25046.875, 25367.875],\n",
       " [27551.5625, 27872.5625],\n",
       " [30056.25, 30377.25],\n",
       " [32560.9375, 32881.9375],\n",
       " [35065.625, 35386.625],\n",
       " [37570.3125, 37891.3125],\n",
       " [0.0, 321.0],\n",
       " [2504.6875, 2825.6875],\n",
       " [5009.375, 5330.375],\n",
       " [7514.0625, 7835.0625],\n",
       " [10018.75, 10339.75],\n",
       " [12523.4375, 12844.4375],\n",
       " [15028.125, 15349.125],\n",
       " [17532.8125, 17853.8125],\n",
       " [20037.5, 20358.5],\n",
       " [22542.1875, 22863.1875],\n",
       " [25046.875, 25367.875],\n",
       " [27551.5625, 27872.5625],\n",
       " [30056.25, 30377.25],\n",
       " [32560.9375, 32881.9375],\n",
       " [35065.625, 35386.625],\n",
       " [37570.3125, 37891.3125],\n",
       " [0.0, 321.0],\n",
       " [2504.6875, 2825.6875],\n",
       " [5009.375, 5330.375],\n",
       " [7514.0625, 7835.0625],\n",
       " [10018.75, 10339.75],\n",
       " [12523.4375, 12844.4375],\n",
       " [15028.125, 15349.125],\n",
       " [17532.8125, 17853.8125],\n",
       " [20037.5, 20358.5],\n",
       " [22542.1875, 22863.1875],\n",
       " [25046.875, 25367.875],\n",
       " [27551.5625, 27872.5625],\n",
       " [30056.25, 30377.25],\n",
       " [32560.9375, 32881.9375],\n",
       " [35065.625, 35386.625],\n",
       " [37570.3125, 37891.3125],\n",
       " [0.0, 321.0],\n",
       " [2504.6875, 2825.6875],\n",
       " [5009.375, 5330.375],\n",
       " [7514.0625, 7835.0625],\n",
       " [10018.75, 10339.75],\n",
       " [12523.4375, 12844.4375],\n",
       " [15028.125, 15349.125],\n",
       " [17532.8125, 17853.8125],\n",
       " [20037.5, 20358.5],\n",
       " [22542.1875, 22863.1875],\n",
       " [25046.875, 25367.875],\n",
       " [27551.5625, 27872.5625],\n",
       " [30056.25, 30377.25],\n",
       " [32560.9375, 32881.9375],\n",
       " [35065.625, 35386.625],\n",
       " [37570.3125, 37891.3125],\n",
       " [0.0, 321.0],\n",
       " [2504.6875, 2825.6875],\n",
       " [5009.375, 5330.375],\n",
       " [7514.0625, 7835.0625],\n",
       " [10018.75, 10339.75],\n",
       " [12523.4375, 12844.4375],\n",
       " [15028.125, 15349.125],\n",
       " [17532.8125, 17853.8125],\n",
       " [20037.5, 20358.5],\n",
       " [22542.1875, 22863.1875],\n",
       " [25046.875, 25367.875],\n",
       " [27551.5625, 27872.5625],\n",
       " [30056.25, 30377.25],\n",
       " [32560.9375, 32881.9375],\n",
       " [35065.625, 35386.625],\n",
       " [37570.3125, 37891.3125],\n",
       " [0.0, 321.0],\n",
       " [2504.6875, 2825.6875],\n",
       " [5009.375, 5330.375],\n",
       " [7514.0625, 7835.0625],\n",
       " [10018.75, 10339.75],\n",
       " [12523.4375, 12844.4375],\n",
       " [15028.125, 15349.125],\n",
       " [17532.8125, 17853.8125],\n",
       " [20037.5, 20358.5],\n",
       " [22542.1875, 22863.1875],\n",
       " [25046.875, 25367.875],\n",
       " [27551.5625, 27872.5625],\n",
       " [30056.25, 30377.25],\n",
       " [32560.9375, 32881.9375],\n",
       " [35065.625, 35386.625],\n",
       " [37570.3125, 37891.3125],\n",
       " [0.0, 321.0],\n",
       " [2504.6875, 2825.6875],\n",
       " [5009.375, 5330.375],\n",
       " [7514.0625, 7835.0625],\n",
       " [10018.75, 10339.75],\n",
       " [12523.4375, 12844.4375],\n",
       " [15028.125, 15349.125],\n",
       " [17532.8125, 17853.8125],\n",
       " [20037.5, 20358.5],\n",
       " [22542.1875, 22863.1875],\n",
       " [25046.875, 25367.875],\n",
       " [27551.5625, 27872.5625],\n",
       " [30056.25, 30377.25],\n",
       " [32560.9375, 32881.9375],\n",
       " [35065.625, 35386.625],\n",
       " [37570.3125, 37891.3125],\n",
       " [0.0, 321.0],\n",
       " [2504.6875, 2825.6875],\n",
       " [5009.375, 5330.375],\n",
       " [7514.0625, 7835.0625],\n",
       " [10018.75, 10339.75],\n",
       " [12523.4375, 12844.4375],\n",
       " [15028.125, 15349.125],\n",
       " [17532.8125, 17853.8125],\n",
       " [20037.5, 20358.5],\n",
       " [22542.1875, 22863.1875],\n",
       " [25046.875, 25367.875],\n",
       " [27551.5625, 27872.5625],\n",
       " [30056.25, 30377.25],\n",
       " [32560.9375, 32881.9375],\n",
       " [35065.625, 35386.625],\n",
       " [37570.3125, 37891.3125]]"
      ]
     },
     "execution_count": 22,
     "metadata": {},
     "output_type": "execute_result"
    }
   ],
   "source": [
    "swath = 321\n",
    "days = 12\n",
    "x = [[0,swath]]\n",
    "for i in range (1,16*days):\n",
    "    a = (i*2504.6875) % 40075\n",
    "    b = (i*2504.6875+hieght) % 40075\n",
    "    x.append([a,b])\n",
    "    \n",
    "x"
   ]
  },
  {
   "cell_type": "markdown",
   "metadata": {},
   "source": [
    "So for how we've simplified this, it turns out that each day we start at exactly the same location. Note that with the exact orbital period we would start to veer off some (I think, we will look into this later).\n",
    "\n",
    "___\n",
    "\n",
    "Thus in order to cover all of the equator, we need enough satellites to cover the distance the Earth travels in one orbital period. For an altitude of 400 km, we have $\\frac{2504.6875}{214} = 11.70414$. Hence it would take all 12 satellites in order to cover the Earth. For an altitude of 600 km, we have $\\frac{2504.6875}{321} = 7.80276$ and thus 8 satellites here. Which kind of matches the table within the powerpoint provided by David."
   ]
  },
  {
   "cell_type": "markdown",
   "metadata": {},
   "source": [
    "___\n",
    "\n",
    "From here on we will try to replicate their table."
   ]
  },
  {
   "cell_type": "code",
   "execution_count": 21,
   "metadata": {
    "ExecuteTime": {
     "end_time": "2019-11-05T19:16:01.526830Z",
     "start_time": "2019-11-05T19:16:01.520449Z"
    }
   },
   "outputs": [
    {
     "name": "stdout",
     "output_type": "stream",
     "text": [
      "Swath =  259.910716658189 km\n"
     ]
    }
   ],
   "source": [
    "swath = coverage(30.0, 485)"
   ]
  },
  {
   "cell_type": "markdown",
   "metadata": {},
   "source": [
    "They get 254 and we get 260 pretty much for an altitude of 485 km. Their table then specifies them having 3 satellites taking 4 days. Dividing the Earth's rotation in one orbit by 260 km for the swath we get the need for 10 satellites to orbit. This is JUST to cover that distance for coverage in 1 day. If (and assuming rightly so) the orbit does not overlap exactly 3 satellites covering Earth in 4 days seems right."
   ]
  },
  {
   "cell_type": "code",
   "execution_count": 23,
   "metadata": {
    "ExecuteTime": {
     "end_time": "2019-11-05T19:30:39.406321Z",
     "start_time": "2019-11-05T19:30:39.400373Z"
    }
   },
   "outputs": [
    {
     "name": "stdout",
     "output_type": "stream",
     "text": [
      "Swath =  219.71833779352062 km\n"
     ]
    }
   ],
   "source": [
    "swath = coverage(30.0, 410)"
   ]
  },
  {
   "cell_type": "markdown",
   "metadata": {},
   "source": [
    "They have 6 satellites in 2 days. We have 12 satellites in 1 day. So again it makes sense for 6 in 2 days."
   ]
  },
  {
   "cell_type": "code",
   "execution_count": null,
   "metadata": {},
   "outputs": [],
   "source": []
  }
 ],
 "metadata": {
  "kernelspec": {
   "display_name": "Python 3",
   "language": "python",
   "name": "python3"
  },
  "language_info": {
   "codemirror_mode": {
    "name": "ipython",
    "version": 3
   },
   "file_extension": ".py",
   "mimetype": "text/x-python",
   "name": "python",
   "nbconvert_exporter": "python",
   "pygments_lexer": "ipython3",
   "version": "3.7.3"
  },
  "latex_envs": {
   "LaTeX_envs_menu_present": true,
   "autoclose": false,
   "autocomplete": true,
   "bibliofile": "biblio.bib",
   "cite_by": "apalike",
   "current_citInitial": 1,
   "eqLabelWithNumbers": true,
   "eqNumInitial": 1,
   "hotkeys": {
    "equation": "Ctrl-E",
    "itemize": "Ctrl-I"
   },
   "labels_anchors": false,
   "latex_user_defs": false,
   "report_style_numbering": false,
   "user_envs_cfg": false
  },
  "toc": {
   "base_numbering": 1,
   "nav_menu": {},
   "number_sections": true,
   "sideBar": true,
   "skip_h1_title": false,
   "title_cell": "Table of Contents",
   "title_sidebar": "Contents",
   "toc_cell": false,
   "toc_position": {},
   "toc_section_display": true,
   "toc_window_display": false
  },
  "varInspector": {
   "cols": {
    "lenName": 16,
    "lenType": 16,
    "lenVar": 40
   },
   "kernels_config": {
    "python": {
     "delete_cmd_postfix": "",
     "delete_cmd_prefix": "del ",
     "library": "var_list.py",
     "varRefreshCmd": "print(var_dic_list())"
    },
    "r": {
     "delete_cmd_postfix": ") ",
     "delete_cmd_prefix": "rm(",
     "library": "var_list.r",
     "varRefreshCmd": "cat(var_dic_list()) "
    }
   },
   "types_to_exclude": [
    "module",
    "function",
    "builtin_function_or_method",
    "instance",
    "_Feature"
   ],
   "window_display": false
  }
 },
 "nbformat": 4,
 "nbformat_minor": 2
}
