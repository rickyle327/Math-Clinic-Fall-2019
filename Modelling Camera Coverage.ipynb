{
 "cells": [
  {
   "cell_type": "code",
   "execution_count": 3,
   "metadata": {},
   "outputs": [],
   "source": [
    "import math\n",
    "import numpy as num\n",
    "import matplotlib.pyplot as plt"
   ]
  },
  {
   "cell_type": "markdown",
   "metadata": {},
   "source": [
    "## Modelling Camera Coverage in Two-Dimensions"
   ]
  },
  {
   "cell_type": "markdown",
   "metadata": {},
   "source": [
    "We want to find the coverage of the sattelite pointing downwards at the surface of the Earth (represented by a two-dimensional plane). Assume that the camera is pointed downwards meeting the Earth at a 90 degree angle. The equation to model this is below:"
   ]
  },
  {
   "cell_type": "code",
   "execution_count": 10,
   "metadata": {},
   "outputs": [],
   "source": [
    "def coverage(theta, h):\n",
    "    l = 2 * h * num.tan(num.pi*(theta/2)/180)\n",
    "    print(\"Swath = \", l)\n",
    "    cov = l**2\n",
    "    return cov"
   ]
  },
  {
   "cell_type": "markdown",
   "metadata": {},
   "source": [
    "We know that we have two cameras, each with a 15 degree swath giving us a total of thirty degrees. We also know that our orbit will be between 400 and 600 km. Using this we can calclate the range to be:"
   ]
  },
  {
   "cell_type": "code",
   "execution_count": 11,
   "metadata": {},
   "outputs": [
    {
     "name": "stdout",
     "output_type": "stream",
     "text": [
      "Swath =  214.35935394489815\n",
      "Min coverage =  45949.93262367412  km^2\n",
      "Swath =  321.53903091734725\n",
      "Max coverage =  103387.34840326679  km^2\n"
     ]
    }
   ],
   "source": [
    "min = coverage(30, 400)\n",
    "print(\"Min coverage = \", min, \" km^2\")\n",
    "\n",
    "max = coverage(30, 600)\n",
    "print(\"Max coverage = \", max, \" km^2\")"
   ]
  },
  {
   "cell_type": "code",
   "execution_count": null,
   "metadata": {},
   "outputs": [],
   "source": []
  }
 ],
 "metadata": {
  "kernelspec": {
   "display_name": "Python 3",
   "language": "python",
   "name": "python3"
  },
  "language_info": {
   "codemirror_mode": {
    "name": "ipython",
    "version": 3
   },
   "file_extension": ".py",
   "mimetype": "text/x-python",
   "name": "python",
   "nbconvert_exporter": "python",
   "pygments_lexer": "ipython3",
   "version": "3.7.3"
  }
 },
 "nbformat": 4,
 "nbformat_minor": 2
}
