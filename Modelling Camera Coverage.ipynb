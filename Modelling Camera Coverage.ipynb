{
 "cells": [
  {
   "cell_type": "code",
   "execution_count": 1,
   "metadata": {
    "ExecuteTime": {
     "end_time": "2019-10-02T17:06:12.191176Z",
     "start_time": "2019-10-02T17:06:12.004825Z"
    }
   },
   "outputs": [],
   "source": [
    "import math\n",
    "import numpy as num\n",
    "import matplotlib.pyplot as plt"
   ]
  },
  {
   "cell_type": "markdown",
   "metadata": {},
   "source": [
    "## Modelling Camera Coverage in Two-Dimensions"
   ]
  },
  {
   "cell_type": "markdown",
   "metadata": {},
   "source": [
    "We want to find the coverage of the sattelite pointing downwards at the surface of the Earth (represented by a two-dimensional plane). Assume that the camera is pointed downwards meeting the Earth at a 90 degree angle. The equation to model this is below:"
   ]
  },
  {
   "cell_type": "code",
   "execution_count": 2,
   "metadata": {
    "ExecuteTime": {
     "end_time": "2019-10-02T17:06:14.156812Z",
     "start_time": "2019-10-02T17:06:14.152453Z"
    }
   },
   "outputs": [],
   "source": [
    "def coverage(theta, h):\n",
    "    l = 2 * h * num.tan( num.pi * ( theta/2 ) / 180)\n",
    "    print(\"Swath = \", l)\n",
    "    cov = l**2\n",
    "    return cov"
   ]
  },
  {
   "cell_type": "markdown",
   "metadata": {},
   "source": [
    "We know that we have two cameras, each with a 15 degree swath giving us a total of thirty degrees. We also know that our orbit will be between 400 and 600 km. Using this we can calclate the range to be:"
   ]
  },
  {
   "cell_type": "code",
   "execution_count": 3,
   "metadata": {
    "ExecuteTime": {
     "end_time": "2019-10-02T17:06:15.884773Z",
     "start_time": "2019-10-02T17:06:15.877845Z"
    }
   },
   "outputs": [
    {
     "name": "stdout",
     "output_type": "stream",
     "text": [
      "Swath =  214.35935394489815\n",
      "Min coverage =  45949.93262367412  km^2\n",
      "Swath =  321.53903091734725\n",
      "Max coverage =  103387.34840326679  km^2\n"
     ]
    }
   ],
   "source": [
    "min = coverage(30, 400)\n",
    "print(\"Min coverage = \", min, \" km^2\")\n",
    "\n",
    "max = coverage(30, 600)\n",
    "print(\"Max coverage = \", max, \" km^2\")"
   ]
  },
  {
   "cell_type": "code",
   "execution_count": null,
   "metadata": {},
   "outputs": [],
   "source": []
  }
 ],
 "metadata": {
  "kernelspec": {
   "display_name": "Python 3",
   "language": "python",
   "name": "python3"
  },
  "language_info": {
   "codemirror_mode": {
    "name": "ipython",
    "version": 3
   },
   "file_extension": ".py",
   "mimetype": "text/x-python",
   "name": "python",
   "nbconvert_exporter": "python",
   "pygments_lexer": "ipython3",
   "version": "3.7.3"
  },
  "latex_envs": {
   "LaTeX_envs_menu_present": true,
   "autoclose": false,
   "autocomplete": true,
   "bibliofile": "biblio.bib",
   "cite_by": "apalike",
   "current_citInitial": 1,
   "eqLabelWithNumbers": true,
   "eqNumInitial": 1,
   "hotkeys": {
    "equation": "Ctrl-E",
    "itemize": "Ctrl-I"
   },
   "labels_anchors": false,
   "latex_user_defs": false,
   "report_style_numbering": false,
   "user_envs_cfg": false
  },
  "toc": {
   "base_numbering": 1,
   "nav_menu": {},
   "number_sections": true,
   "sideBar": true,
   "skip_h1_title": false,
   "title_cell": "Table of Contents",
   "title_sidebar": "Contents",
   "toc_cell": false,
   "toc_position": {},
   "toc_section_display": true,
   "toc_window_display": false
  },
  "varInspector": {
   "cols": {
    "lenName": 16,
    "lenType": 16,
    "lenVar": 40
   },
   "kernels_config": {
    "python": {
     "delete_cmd_postfix": "",
     "delete_cmd_prefix": "del ",
     "library": "var_list.py",
     "varRefreshCmd": "print(var_dic_list())"
    },
    "r": {
     "delete_cmd_postfix": ") ",
     "delete_cmd_prefix": "rm(",
     "library": "var_list.r",
     "varRefreshCmd": "cat(var_dic_list()) "
    }
   },
   "types_to_exclude": [
    "module",
    "function",
    "builtin_function_or_method",
    "instance",
    "_Feature"
   ],
   "window_display": false
  }
 },
 "nbformat": 4,
 "nbformat_minor": 2
}
