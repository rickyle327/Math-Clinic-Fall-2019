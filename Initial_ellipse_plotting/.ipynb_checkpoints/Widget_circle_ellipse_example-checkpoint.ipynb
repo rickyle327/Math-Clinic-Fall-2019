{
 "cells": [
  {
   "cell_type": "code",
   "execution_count": 3,
   "metadata": {
    "ExecuteTime": {
     "end_time": "2019-10-03T19:33:01.394875Z",
     "start_time": "2019-10-03T19:33:01.179850Z"
    }
   },
   "outputs": [],
   "source": [
    "import numpy as np\n",
    "from matplotlib import pyplot as plt\n",
    "from ipywidgets import widgets \n",
    "from ipywidgets import interactive\n",
    "\n",
    "## DEFINE RE-USABLE METHODS\n",
    "\n",
    "def rotX(theta): # build a rotation matrix around the y-axis\n",
    "    R = np.eye(3)\n",
    "    R[1,1] = np.cos(theta)\n",
    "    R[1,2] = -np.sin(theta)\n",
    "    R[2,1] = np.sin(theta)\n",
    "    R[2,2] = np.cos(theta)\n",
    "    return R\n",
    "\n",
    "def rotY(theta): # build a rotation matrix around the y-axis\n",
    "    R = np.eye(3)\n",
    "    R[0,0] = np.cos(theta)\n",
    "    R[0,2] = np.sin(theta)\n",
    "    R[2,0] = -np.sin(theta)\n",
    "    R[2,2] = np.cos(theta)\n",
    "    return R\n",
    "\n",
    "def rotZ(theta): # build a rotation matrix around the y-axis\n",
    "    R = np.eye(3)\n",
    "    R[0,0] = np.cos(theta)\n",
    "    R[0,1] = -np.sin(theta)\n",
    "    R[1,0] = np.sin(theta)\n",
    "    R[1,1] = np.cos(theta)\n",
    "    return R\n",
    "  "
   ]
  },
  {
   "cell_type": "code",
   "execution_count": 4,
   "metadata": {
    "ExecuteTime": {
     "end_time": "2019-10-03T19:33:01.492701Z",
     "start_time": "2019-10-03T19:33:01.450797Z"
    }
   },
   "outputs": [],
   "source": [
    "class plane(object): # make a child of the base class `object`\n",
    "    def __init__(self, num_points_sides = 30, num_points_back = 20):\n",
    "        # these define our frame in the xy-plane\n",
    "        self.tail = [0, -20, 0]\n",
    "        self.nose = [0, 50, 0]\n",
    "        self.leftwing = [-20, -20, 0]\n",
    "        self.rightwing = [20, -20, 0]\n",
    "        self.points = []\n",
    "        \n",
    "        # we fit a parabola on the back\n",
    "        xwidth = self.rightwing[0] - self.leftwing[0]\n",
    "        for x in np.linspace(self.leftwing[0], self.rightwing[0], num_points_back): # x values from wing to wing\n",
    "            self.points.append( [x, -(1.5/xwidth)*(x-self.rightwing[0])*(x-self.leftwing[0]) + self.leftwing[1], 0 ] )\n",
    "        \n",
    "        # we can add a parabola as a spine\n",
    "        ywidth = self.nose[1] - self.tail[1]\n",
    "        for y in np.linspace(self.tail[1], self.nose[1], num_points_back): # x values from wing to wing\n",
    "            self.points.append( [0, y, -(0.5/ywidth)*(y-self.nose[1])*(y-self.tail[1])  ] )\n",
    "            \n",
    "        # and lines on the sides\n",
    "        slope_left = (self.nose[1] - self.leftwing[1])/(self.nose[0] - self.leftwing[0] )\n",
    "        slope_right = (self.nose[1] - self.rightwing[1])/(self.nose[0] - self.rightwing[0]) \n",
    "        \n",
    "        for x in np.linspace(self.leftwing[0], self.nose[0], num_points_sides): # x values from left wing to center\n",
    "            self.points.append( [x, slope_left*x + self.nose[1], 0] )\n",
    "        \n",
    "        for x in np.linspace(self.nose[0], self.rightwing[0], num_points_sides): # x values from center to right wing\n",
    "            self.points.append( [x, slope_right*x + self.nose[1], 0] )\n",
    "            \n",
    "        # you can add more points to the geometry of our airplane, for now we leave it as a triangle.\n",
    "    \n",
    "    def update(self, R): # this is the utility function that is used by the others.\n",
    "        l = []\n",
    "        for p in self.points:\n",
    "            l.append(np.dot(R, p))\n",
    "        self.points = l\n",
    "        pass\n",
    "    \n",
    "    def pitch(self, theta=np.pi/16):\n",
    "        R = rotX(theta) # get rotation matrix\n",
    "        self.update(R) # call the update function.\n",
    "        pass\n",
    "    \n",
    "    def roll(self, theta=np.pi/16):\n",
    "        R = rotY(theta) # get rotation matrix\n",
    "        self.update(R) # call the update function.\n",
    "        pass\n",
    "    \n",
    "    def yaw(self, theta=np.pi/16):\n",
    "        R = rotZ(theta) # get rotation matrix\n",
    "        self.update(R) # call the update function.\n",
    "        pass\n",
    "    \n",
    "    def plot(self, min_dot_size = 10, scale_factor = 40):\n",
    "        plt.cla() # clear our axes\n",
    "        N = np.array(self.points).transpose()\n",
    "        m = np.max(N[:,2]) - np.min(N[:,2])\n",
    "#         alpha=0.1+0.9*(p[2]-np.min(N[:,2]))/m,\n",
    "        for p in self.points:\n",
    "            plt.scatter(p[0], p[1], c='k', s=min_dot_size +scale_factor*(p[2]-np.min(N[:,2]))/m )\n",
    "#         plt.xlim([-50, 50])\n",
    "#         plt.ylim([-20, 70])\n",
    "        plt.axis('equal')\n",
    "        plt.show()\n",
    "\n"
   ]
  },
  {
   "cell_type": "code",
   "execution_count": 5,
   "metadata": {
    "ExecuteTime": {
     "end_time": "2019-10-03T19:33:02.248991Z",
     "start_time": "2019-10-03T19:33:01.739550Z"
    }
   },
   "outputs": [
    {
     "data": {
      "application/vnd.jupyter.widget-view+json": {
       "model_id": "433cb627365a417abf57ecb022041b65",
       "version_major": 2,
       "version_minor": 0
      },
      "text/plain": [
       "interactive(children=(FloatSlider(value=0.0, continuous_update=False, description='roll_angle', max=1.57079632…"
      ]
     },
     "metadata": {},
     "output_type": "display_data"
    }
   ],
   "source": [
    "### HANDLER FUNCTION.\n",
    "def render(roll_angle, pitch_angle, yaw_angle):\n",
    "    try:\n",
    "        P = plane() # instantiate our class.\n",
    "        P.roll(roll_angle)\n",
    "        P.pitch(pitch_angle)\n",
    "        P.yaw(yaw_angle)\n",
    "        P.plot()\n",
    "    except RuntimeWarning:\n",
    "        pass\n",
    "    return None\n",
    "\n",
    "sliders = [widgets.FloatSlider(val = 0, min=-np.pi/2, max=np.pi/2, step=np.pi/50, continuous_update=False) \n",
    "       for _ in range(3)]\n",
    "interactive(render, roll_angle=sliders[0], pitch_angle=sliders[1], yaw_angle=sliders[2]) "
   ]
  },
  {
   "cell_type": "markdown",
   "metadata": {},
   "source": [
    "## Below is how to draw a circle or ellipse\n",
    "#### I've added a point in the middle to \"replicate\" an orbit"
   ]
  },
  {
   "cell_type": "code",
   "execution_count": 6,
   "metadata": {
    "ExecuteTime": {
     "end_time": "2019-10-03T19:33:02.516212Z",
     "start_time": "2019-10-03T19:33:02.507229Z"
    }
   },
   "outputs": [],
   "source": [
    "def drawellipse(center = [0,0], radius = 1, k=1, h=1, N=50):\n",
    "    assert len(center) == 2 # good practice to do things like this.\n",
    "    x0, y0 = center\n",
    "    x = np.linspace(x0-h*radius , x0+h*radius, N)\n",
    "    y = np.sqrt(radius**2 - ((x-x0)/h)**2 )*k # from the eq for an ellipse\n",
    "    plt.plot(x, -y+y0, c='red')\n",
    "    plt.plot(x, y+y0, c='blue')\n",
    "    plt.scatter(center[0],center[1],c='green')\n",
    "    plt.xlim([-50, 50]) # optional stuff here... \n",
    "    plt.ylim([-50,50]) \n",
    "    plt.axis('equal')\n",
    "    plt.show()\n",
    "    return None\n",
    "  \n",
    "def drawcircle(center = [0,0], radius=1, N=50 ):\n",
    "    return drawellipse(center=center, radius=radius, k=1, h=1, N=N)"
   ]
  },
  {
   "cell_type": "code",
   "execution_count": 7,
   "metadata": {
    "ExecuteTime": {
     "end_time": "2019-10-03T19:33:03.335240Z",
     "start_time": "2019-10-03T19:33:03.171682Z"
    }
   },
   "outputs": [
    {
     "data": {
      "image/png": "[encoded data removed]",
      "text/plain": [
       "<Figure size 432x288 with 1 Axes>"
      ]
     },
     "metadata": {
      "needs_background": "light"
     },
     "output_type": "display_data"
    }
   ],
   "source": [
    "drawcircle([1,1], 20, 50)"
   ]
  },
  {
   "cell_type": "code",
   "execution_count": 8,
   "metadata": {
    "ExecuteTime": {
     "end_time": "2019-10-03T19:33:04.190884Z",
     "start_time": "2019-10-03T19:33:04.037977Z"
    }
   },
   "outputs": [
    {
     "data": {
      "image/png": "[encoded data removed]",
      "text/plain": [
       "<Figure size 432x288 with 1 Axes>"
      ]
     },
     "metadata": {
      "needs_background": "light"
     },
     "output_type": "display_data"
    }
   ],
   "source": [
    "drawellipse([0,3], 2.0, 1, .3, 350)"
   ]
  },
  {
   "cell_type": "code",
   "execution_count": 9,
   "metadata": {
    "ExecuteTime": {
     "end_time": "2019-10-03T19:33:04.760217Z",
     "start_time": "2019-10-03T19:33:04.602535Z"
    }
   },
   "outputs": [
    {
     "data": {
      "image/png": "[encoded data removed]",
      "text/plain": [
       "<Figure size 432x288 with 1 Axes>"
      ]
     },
     "metadata": {
      "needs_background": "light"
     },
     "output_type": "display_data"
    }
   ],
   "source": [
    "drawellipse([0,3], 2.0, .3, 1, 350)"
   ]
  },
  {
   "cell_type": "markdown",
   "metadata": {},
   "source": [
    "## Looking at using the form of $y$ that I derived"
   ]
  },
  {
   "cell_type": "code",
   "execution_count": 24,
   "metadata": {
    "ExecuteTime": {
     "end_time": "2019-10-03T19:38:46.860360Z",
     "start_time": "2019-10-03T19:38:46.846120Z"
    }
   },
   "outputs": [],
   "source": [
    "def draworbit( radius = 1, a=1, b=1, N=150):\n",
    "    x0, y0 = [0,0]\n",
    "    x = np.linspace(x0-radius , x0+radius, N)\n",
    "    \n",
    "    y = np.sqrt( ( radius**2 - ( (x-x0) / a )**2 ) * b**2 ) + y0\n",
    "    \n",
    "    plt.plot(x, -y+y0, c='red')\n",
    "    plt.plot(x, y+y0, c='blue')\n",
    "    plt.scatter(0,0,c='green')\n",
    "    plt.xlim([-50, 50]) # optional stuff here... \n",
    "    plt.ylim([-50,50]) \n",
    "    plt.axis('equal')\n",
    "    plt.show()\n",
    "    return None\n",
    "  "
   ]
  },
  {
   "cell_type": "code",
   "execution_count": 33,
   "metadata": {
    "ExecuteTime": {
     "end_time": "2019-10-03T19:46:39.502566Z",
     "start_time": "2019-10-03T19:46:39.344083Z"
    }
   },
   "outputs": [
    {
     "data": {
      "image/png": "[encoded data removed]",
      "text/plain": [
       "<Figure size 432x288 with 1 Axes>"
      ]
     },
     "metadata": {
      "needs_background": "light"
     },
     "output_type": "display_data"
    }
   ],
   "source": [
    "draworbit(15, 1, .1, 350)"
   ]
  },
  {
   "cell_type": "code",
   "execution_count": null,
   "metadata": {},
   "outputs": [],
   "source": []
  }
 ],
 "metadata": {
  "anaconda-cloud": {},
  "kernelspec": {
   "display_name": "Python 3",
   "language": "python",
   "name": "python3"
  },
  "language_info": {
   "codemirror_mode": {
    "name": "ipython",
    "version": 3
   },
   "file_extension": ".py",
   "mimetype": "text/x-python",
   "name": "python",
   "nbconvert_exporter": "python",
   "pygments_lexer": "ipython3",
   "version": "3.7.3"
  },
  "latex_envs": {
   "LaTeX_envs_menu_present": true,
   "autoclose": false,
   "autocomplete": true,
   "bibliofile": "biblio.bib",
   "cite_by": "apalike",
   "current_citInitial": 1,
   "eqLabelWithNumbers": true,
   "eqNumInitial": 1,
   "hotkeys": {
    "equation": "Ctrl-E",
    "itemize": "Ctrl-I"
   },
   "labels_anchors": false,
   "latex_user_defs": false,
   "report_style_numbering": false,
   "user_envs_cfg": false
  },
  "toc": {
   "base_numbering": 1,
   "nav_menu": {},
   "number_sections": true,
   "sideBar": true,
   "skip_h1_title": false,
   "title_cell": "Table of Contents",
   "title_sidebar": "Contents",
   "toc_cell": false,
   "toc_position": {},
   "toc_section_display": true,
   "toc_window_display": false
  },
  "varInspector": {
   "cols": {
    "lenName": 16,
    "lenType": 16,
    "lenVar": 40
   },
   "kernels_config": {
    "python": {
     "delete_cmd_postfix": "",
     "delete_cmd_prefix": "del ",
     "library": "var_list.py",
     "varRefreshCmd": "print(var_dic_list())"
    },
    "r": {
     "delete_cmd_postfix": ") ",
     "delete_cmd_prefix": "rm(",
     "library": "var_list.r",
     "varRefreshCmd": "cat(var_dic_list()) "
    }
   },
   "types_to_exclude": [
    "module",
    "function",
    "builtin_function_or_method",
    "instance",
    "_Feature"
   ],
   "window_display": false
  },
  "widgets": {
   "state": {
    "6636f02f890f4029baa5a10d5116158a": {
     "views": [
      {
       "cell_index": 37
      }
     ]
    }
   },
   "version": "1.2.0"
  }
 },
 "nbformat": 4,
 "nbformat_minor": 2
}
